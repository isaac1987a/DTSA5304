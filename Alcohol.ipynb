{
 "cells": [
  {
   "cell_type": "code",
   "execution_count": 1,
   "metadata": {},
   "outputs": [],
   "source": [
    "import pandas as pd\n",
    "import altair as alt\n",
    "import statistics\n"
   ]
  },
  {
   "cell_type": "code",
   "execution_count": 18,
   "metadata": {},
   "outputs": [],
   "source": [
    "#https://www.kaggle.com/datasets/whenamancodes/alcohol-effects-on-study?select=Maths.csv\n",
    "\n",
    "math = pd.read_csv(\"Maths.csv\")\n",
    "\n",
    "\n",
    "                  "
   ]
  },
  {
   "cell_type": "code",
   "execution_count": 19,
   "metadata": {},
   "outputs": [
    {
     "name": "stdout",
     "output_type": "stream",
     "text": [
      "<bound method NDFrame.head of     school sex  age address famsize Pstatus  Medu  Fedu      Mjob      Fjob  \\\n",
      "0       GP   F   18       U     GT3       A     4     4   at_home   teacher   \n",
      "1       GP   F   17       U     GT3       T     1     1   at_home     other   \n",
      "2       GP   F   15       U     LE3       T     1     1   at_home     other   \n",
      "3       GP   F   15       U     GT3       T     4     2    health  services   \n",
      "4       GP   F   16       U     GT3       T     3     3     other     other   \n",
      "..     ...  ..  ...     ...     ...     ...   ...   ...       ...       ...   \n",
      "390     MS   M   20       U     LE3       A     2     2  services  services   \n",
      "391     MS   M   17       U     LE3       T     3     1  services  services   \n",
      "392     MS   M   21       R     GT3       T     1     1     other     other   \n",
      "393     MS   M   18       R     LE3       T     3     2  services     other   \n",
      "394     MS   M   19       U     LE3       T     1     1     other   at_home   \n",
      "\n",
      "     ... famrel freetime  goout  Dalc  Walc health absences  G1  G2  G3  \n",
      "0    ...      4        3      4     1     1      3        6   5   6   6  \n",
      "1    ...      5        3      3     1     1      3        4   5   5   6  \n",
      "2    ...      4        3      2     2     3      3       10   7   8  10  \n",
      "3    ...      3        2      2     1     1      5        2  15  14  15  \n",
      "4    ...      4        3      2     1     2      5        4   6  10  10  \n",
      "..   ...    ...      ...    ...   ...   ...    ...      ...  ..  ..  ..  \n",
      "390  ...      5        5      4     4     5      4       11   9   9   9  \n",
      "391  ...      2        4      5     3     4      2        3  14  16  16  \n",
      "392  ...      5        5      3     3     3      3        3  10   8   7  \n",
      "393  ...      4        4      1     3     4      5        0  11  12  10  \n",
      "394  ...      3        2      3     3     3      5        5   8   9   9  \n",
      "\n",
      "[395 rows x 33 columns]>\n",
      "Index(['school', 'sex', 'age', 'address', 'famsize', 'Pstatus', 'Medu', 'Fedu',\n",
      "       'Mjob', 'Fjob', 'reason', 'guardian', 'traveltime', 'studytime',\n",
      "       'failures', 'schoolsup', 'famsup', 'paid', 'activities', 'nursery',\n",
      "       'higher', 'internet', 'romantic', 'famrel', 'freetime', 'goout', 'Dalc',\n",
      "       'Walc', 'health', 'absences', 'G1', 'G2', 'G3'],\n",
      "      dtype='object')\n"
     ]
    }
   ],
   "source": [
    "print(math.head)\n",
    "print(math.columns)\n"
   ]
  },
  {
   "cell_type": "code",
   "execution_count": 4,
   "metadata": {},
   "outputs": [
    {
     "name": "stdout",
     "output_type": "stream",
     "text": [
      "<bound method NDFrame.head of      Dalc  G3\n",
      "0       1   6\n",
      "1       1   6\n",
      "2       2  10\n",
      "3       1  15\n",
      "4       1  10\n",
      "..    ...  ..\n",
      "390     4   9\n",
      "391     3  16\n",
      "392     3   7\n",
      "393     3  10\n",
      "394     3   9\n",
      "\n",
      "[395 rows x 2 columns]>\n",
      "Index(['Dalc', 'G3'], dtype='object')\n"
     ]
    }
   ],
   "source": [
    "math.drop(['school', 'sex', 'age', 'address', 'famsize', 'Pstatus', 'Medu', 'Fedu',\n",
    "       'Mjob', 'Fjob', 'reason', 'guardian', 'traveltime', 'studytime',\n",
    "       'failures', 'schoolsup', 'famsup', 'paid', 'activities', 'nursery',\n",
    "       'higher', 'internet', 'romantic', 'famrel', 'freetime', 'goout',\n",
    "       'Walc', 'health', 'absences', 'G1', 'G2'], axis = 1, inplace = True)\n",
    "print(math.head)\n",
    "print(math.columns)\n",
    "\n"
   ]
  },
  {
   "cell_type": "code",
   "execution_count": 17,
   "metadata": {},
   "outputs": [
    {
     "name": "stdout",
     "output_type": "stream",
     "text": [
      "   Drinks/Day Test Scores             Max/Avg\n",
      "1           1          20      Max Test Score\n",
      "2           2          18      Max Test Score\n",
      "3           3          17      Max Test Score\n",
      "4           4          13      Max Test Score\n",
      "5           5          13      Max Test Score\n",
      "6           1     10.7319  Average Test Score\n",
      "7           2     9.25333  Average Test Score\n",
      "8           3        10.5  Average Test Score\n",
      "9           4     9.88889  Average Test Score\n",
      "10          5     10.6667  Average Test Score\n"
     ]
    },
    {
     "data": {
      "text/html": [
       "\n",
       "<div id=\"altair-viz-9e2d857a28cb43bf984a6df7500f4955\"></div>\n",
       "<script type=\"text/javascript\">\n",
       "  (function(spec, embedOpt){\n",
       "    let outputDiv = document.currentScript.previousElementSibling;\n",
       "    if (outputDiv.id !== \"altair-viz-9e2d857a28cb43bf984a6df7500f4955\") {\n",
       "      outputDiv = document.getElementById(\"altair-viz-9e2d857a28cb43bf984a6df7500f4955\");\n",
       "    }\n",
       "    const paths = {\n",
       "      \"vega\": \"https://cdn.jsdelivr.net/npm//vega@5?noext\",\n",
       "      \"vega-lib\": \"https://cdn.jsdelivr.net/npm//vega-lib?noext\",\n",
       "      \"vega-lite\": \"https://cdn.jsdelivr.net/npm//vega-lite@4.8.1?noext\",\n",
       "      \"vega-embed\": \"https://cdn.jsdelivr.net/npm//vega-embed@6?noext\",\n",
       "    };\n",
       "\n",
       "    function loadScript(lib) {\n",
       "      return new Promise(function(resolve, reject) {\n",
       "        var s = document.createElement('script');\n",
       "        s.src = paths[lib];\n",
       "        s.async = true;\n",
       "        s.onload = () => resolve(paths[lib]);\n",
       "        s.onerror = () => reject(`Error loading script: ${paths[lib]}`);\n",
       "        document.getElementsByTagName(\"head\")[0].appendChild(s);\n",
       "      });\n",
       "    }\n",
       "\n",
       "    function showError(err) {\n",
       "      outputDiv.innerHTML = `<div class=\"error\" style=\"color:red;\">${err}</div>`;\n",
       "      throw err;\n",
       "    }\n",
       "\n",
       "    function displayChart(vegaEmbed) {\n",
       "      vegaEmbed(outputDiv, spec, embedOpt)\n",
       "        .catch(err => showError(`Javascript Error: ${err.message}<br>This usually means there's a typo in your chart specification. See the javascript console for the full traceback.`));\n",
       "    }\n",
       "\n",
       "    if(typeof define === \"function\" && define.amd) {\n",
       "      requirejs.config({paths});\n",
       "      require([\"vega-embed\"], displayChart, err => showError(`Error loading script: ${err.message}`));\n",
       "    } else if (typeof vegaEmbed === \"function\") {\n",
       "      displayChart(vegaEmbed);\n",
       "    } else {\n",
       "      loadScript(\"vega\")\n",
       "        .then(() => loadScript(\"vega-lite\"))\n",
       "        .then(() => loadScript(\"vega-embed\"))\n",
       "        .catch(showError)\n",
       "        .then(() => displayChart(vegaEmbed));\n",
       "    }\n",
       "  })({\"config\": {\"view\": {\"continuousWidth\": 400, \"continuousHeight\": 300}}, \"data\": {\"name\": \"data-cc5a98049823d4b162e9d2307ac7514c\"}, \"mark\": \"line\", \"encoding\": {\"color\": {\"type\": \"nominal\", \"field\": \"Max/Avg\"}, \"x\": {\"type\": \"nominal\", \"field\": \"Drinks/Day\"}, \"y\": {\"type\": \"quantitative\", \"axis\": {\"tickMinStep\": 1}, \"field\": \"Test Scores\"}}, \"height\": 400, \"title\": \"Impact on Test Scores by Alcohol Consumption\", \"width\": 400, \"$schema\": \"https://vega.github.io/schema/vega-lite/v4.8.1.json\", \"datasets\": {\"data-cc5a98049823d4b162e9d2307ac7514c\": [{\"Drinks/Day\": 1, \"Test Scores\": 20, \"Max/Avg\": \"Max Test Score\"}, {\"Drinks/Day\": 2, \"Test Scores\": 18, \"Max/Avg\": \"Max Test Score\"}, {\"Drinks/Day\": 3, \"Test Scores\": 17, \"Max/Avg\": \"Max Test Score\"}, {\"Drinks/Day\": 4, \"Test Scores\": 13, \"Max/Avg\": \"Max Test Score\"}, {\"Drinks/Day\": 5, \"Test Scores\": 13, \"Max/Avg\": \"Max Test Score\"}, {\"Drinks/Day\": 1, \"Test Scores\": 10.731884057971014, \"Max/Avg\": \"Average Test Score\"}, {\"Drinks/Day\": 2, \"Test Scores\": 9.253333333333334, \"Max/Avg\": \"Average Test Score\"}, {\"Drinks/Day\": 3, \"Test Scores\": 10.5, \"Max/Avg\": \"Average Test Score\"}, {\"Drinks/Day\": 4, \"Test Scores\": 9.88888888888889, \"Max/Avg\": \"Average Test Score\"}, {\"Drinks/Day\": 5, \"Test Scores\": 10.666666666666666, \"Max/Avg\": \"Average Test Score\"}]}}, {\"mode\": \"vega-lite\"});\n",
       "</script>"
      ],
      "text/plain": [
       "alt.Chart(...)"
      ]
     },
     "metadata": {},
     "output_type": "display_data"
    }
   ],
   "source": [
    "#Create Variables data.  \n",
    "#Average Grade/drink\n",
    "#Max Grade/drink\n",
    "\n",
    "colNames = ['Drinks/Day', 'Test Scores', 'Max/Avg']\n",
    "avgV = pd.DataFrame(columns=colNames)\n",
    "maxV = pd.DataFrame(columns=colNames)\n",
    "for i in range(1,6):\n",
    "    tempdf = math.loc[math['Dalc'] == i]\n",
    "    avgV.loc[i] = [i, max(list(tempdf['G3'])), 'Max Test Score']\n",
    "    \n",
    "for i in range(1,6):\n",
    "    tempdf = math.loc[math['Dalc'] == i]\n",
    "    avgV.loc[i+5] = [i, statistics.mean(list(tempdf['G3'])), 'Average Test Score']\n",
    "\n",
    "\n",
    "print(avgV)\n",
    "x = alt.Chart(avgV).mark_line().encode(alt.X('Drinks/Day:N'),\n",
    "                                       alt.Y('Test Scores:Q',\n",
    "                                             axis=alt.Axis(tickMinStep=1)) ,\n",
    "                                             color = 'Max/Avg'\n",
    "                                       \n",
    "      ).properties(title='Impact on Test Scores by Alcohol Consumption', width=400,\n",
    "    height=400)\n",
    "\n",
    "display(x)\n"
   ]
  },
  {
   "cell_type": "code",
   "execution_count": null,
   "metadata": {},
   "outputs": [],
   "source": []
  }
 ],
 "metadata": {
  "kernelspec": {
   "display_name": "Python 3",
   "language": "python",
   "name": "python3"
  },
  "language_info": {
   "codemirror_mode": {
    "name": "ipython",
    "version": 3
   },
   "file_extension": ".py",
   "mimetype": "text/x-python",
   "name": "python",
   "nbconvert_exporter": "python",
   "pygments_lexer": "ipython3",
   "version": "3.7.6"
  }
 },
 "nbformat": 4,
 "nbformat_minor": 5
}
